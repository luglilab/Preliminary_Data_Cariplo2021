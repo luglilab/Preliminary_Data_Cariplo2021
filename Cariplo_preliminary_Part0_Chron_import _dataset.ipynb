{
 "cells": [
  {
   "cell_type": "code",
   "execution_count": 2,
   "id": "bc73841c",
   "metadata": {},
   "outputs": [],
   "source": [
    "import scanpy as sc\n",
    "import numpy as np\n",
    "import scipy as sp\n",
    "import pandas as pd\n",
    "import matplotlib.pyplot as plt\n",
    "from matplotlib import rcParams\n",
    "from matplotlib import colors\n",
    "import seaborn as sb\n",
    "import rpy2.rinterface_lib.callbacks\n",
    "import logging\n",
    "import scrublet as scr\n",
    "from rpy2.robjects import pandas2ri\n",
    "import anndata2ri"
   ]
  },
  {
   "cell_type": "code",
   "execution_count": 3,
   "id": "3981bc50",
   "metadata": {},
   "outputs": [
    {
     "name": "stdout",
     "output_type": "stream",
     "text": [
      "scanpy==1.7.2 anndata==0.7.6 umap==0.5.1 numpy==1.19.5 scipy==1.6.3 pandas==1.2.4 scikit-learn==0.24.2 statsmodels==0.12.2 python-igraph==0.9.1 louvain==0.7.0\n"
     ]
    }
   ],
   "source": [
    "# Ignore R warning messages\n",
    "#Note: this can be commented out to get more verbose R output\n",
    "rpy2.rinterface_lib.callbacks.logger.setLevel(logging.ERROR)\n",
    "\n",
    "# Automatically convert rpy2 outputs to pandas dataframes\n",
    "pandas2ri.activate()\n",
    "anndata2ri.activate()\n",
    "%load_ext rpy2.ipython\n",
    "\n",
    "plt.rcParams['figure.figsize']=(8,8) #rescale figures\n",
    "sc.settings.verbosity = 3\n",
    "#sc.set_figure_params(dpi=200, dpi_save=300)\n",
    "sc.logging.print_header()"
   ]
  },
  {
   "cell_type": "code",
   "execution_count": 4,
   "id": "a0333130",
   "metadata": {},
   "outputs": [],
   "source": [
    "%%R\n",
    "# Load libraries from correct lib Paths for my environment - ignore this!\n",
    ".libPaths(\"/home/spuccio/anaconda3/envs/singlecell/lib/R/library/\")\n",
    "\n",
    "library(clustree)\n"
   ]
  },
  {
   "cell_type": "markdown",
   "id": "df369aad",
   "metadata": {},
   "source": [
    "### PTZ_7420"
   ]
  },
  {
   "cell_type": "code",
   "execution_count": 5,
   "id": "b20b297b",
   "metadata": {},
   "outputs": [
    {
     "name": "stderr",
     "output_type": "stream",
     "text": [
      "--> This might be very slow. Consider passing `cache=True`, which enables much faster reading from a cache file.\n",
      "--> This might be very slow. Consider passing `cache=True`, which enables much faster reading from a cache file.\n",
      "... storing 'CellFromTumor' as categorical\n",
      "... storing 'PatientNumber' as categorical\n",
      "... storing 'TumorType' as categorical\n",
      "... storing 'TumorSite' as categorical\n",
      "... storing 'CellType' as categorical\n",
      "... storing 'dataset' as categorical\n",
      "... storing 'CellFromTumor' as categorical\n",
      "... storing 'PatientNumber' as categorical\n",
      "... storing 'TumorType' as categorical\n",
      "... storing 'TumorSite' as categorical\n",
      "... storing 'CellType' as categorical\n",
      "... storing 'dataset' as categorical\n"
     ]
    }
   ],
   "source": [
    "Ptz_7420_LP_Normal = sc.read_10x_mtx(\"/mnt/lugli/spuccio/SP028_Autoimmunity/Cariplo/CROHN_counts/GSM4766839_N-7420-4\")\n",
    "Ptz_7420_IEL_Normal = sc.read_10x_mtx(\"/mnt/lugli/spuccio/SP028_Autoimmunity/Cariplo/CROHN_counts/GSM4766845_N-7420-2\")\n",
    "\n",
    "\n",
    "Ptz_7420_LP_Normal.obs['CellId'] = Ptz_7420_LP_Normal.obs.index\n",
    "Ptz_7420_IEL_Normal.obs['CellId'] = Ptz_7420_IEL_Normal.obs.index\n",
    "\n",
    "\n",
    "Ptz_7420_LP_Normal.obs['CellFromTumor'] = \"Autoimmune\"\n",
    "Ptz_7420_IEL_Normal.obs['CellFromTumor'] = \"Autoimmune\"\n",
    "\n",
    "\n",
    "Ptz_7420_LP_Normal.obs['PatientNumber'] = \"Ptz_7420\"\n",
    "Ptz_7420_IEL_Normal.obs['PatientNumber'] = \"Ptz_7420\"\n",
    "\n",
    "Ptz_7420_LP_Normal.obs['TumorType'] = \"IBD\"\n",
    "Ptz_7420_IEL_Normal.obs['TumorType'] = \"IBD\"\n",
    "\n",
    "\n",
    "Ptz_7420_LP_Normal.obs['TumorSite'] = \"LP\"\n",
    "Ptz_7420_IEL_Normal.obs['TumorSite'] = \"IEL\"\n",
    "\n",
    "\n",
    "Ptz_7420_LP_Normal.obs['CellType'] = \"Normal\"\n",
    "Ptz_7420_IEL_Normal.obs['CellType'] = \"Normal\"\n",
    "\n",
    "\n",
    "Ptz_7420_LP_Normal.obs['dataset'] = \"GSE157477\"\n",
    "Ptz_7420_IEL_Normal.obs['dataset'] = \"GSE157477\"\n",
    "\n",
    "Ptz_7420_LP_Normal.write(\"/mnt/lugli/spuccio/SP028_Autoimmunity/Cariplo/CROHN_counts/h5files/Ptz_7420_LP_Normal.h5ad\")\n",
    "Ptz_7420_IEL_Normal.write(\"/mnt/lugli/spuccio/SP028_Autoimmunity/Cariplo/CROHN_counts/h5files/Ptz_7420_IEL_Normal.h5ad\")\n",
    "\n",
    "\n",
    "del Ptz_7420_LP_Normal\n",
    "del Ptz_7420_IEL_Normal"
   ]
  },
  {
   "cell_type": "markdown",
   "id": "22195b64",
   "metadata": {},
   "source": [
    "### PTZ_1425"
   ]
  },
  {
   "cell_type": "code",
   "execution_count": 6,
   "id": "eec066eb",
   "metadata": {},
   "outputs": [
    {
     "name": "stderr",
     "output_type": "stream",
     "text": [
      "--> This might be very slow. Consider passing `cache=True`, which enables much faster reading from a cache file.\n",
      "--> This might be very slow. Consider passing `cache=True`, which enables much faster reading from a cache file.\n",
      "... storing 'CellFromTumor' as categorical\n",
      "... storing 'PatientNumber' as categorical\n",
      "... storing 'TumorType' as categorical\n",
      "... storing 'TumorSite' as categorical\n",
      "... storing 'CellType' as categorical\n",
      "... storing 'dataset' as categorical\n",
      "... storing 'CellFromTumor' as categorical\n",
      "... storing 'PatientNumber' as categorical\n",
      "... storing 'TumorType' as categorical\n",
      "... storing 'TumorSite' as categorical\n",
      "... storing 'CellType' as categorical\n",
      "... storing 'dataset' as categorical\n"
     ]
    }
   ],
   "source": [
    "Ptz_1425_LP_Normal = sc.read_10x_mtx(\"/mnt/lugli/spuccio/SP028_Autoimmunity/Cariplo/CROHN_counts/GSM4766840_N-1425-3\")\n",
    "Ptz_1425_IEL_Normal = sc.read_10x_mtx(\"/mnt/lugli/spuccio/SP028_Autoimmunity/Cariplo/CROHN_counts/GSM4766846_N-1425-1\")\n",
    "\n",
    "\n",
    "Ptz_1425_LP_Normal.obs['CellId'] = Ptz_1425_LP_Normal.obs.index\n",
    "Ptz_1425_IEL_Normal.obs['CellId'] = Ptz_1425_IEL_Normal.obs.index\n",
    "\n",
    "\n",
    "Ptz_1425_LP_Normal.obs['CellFromTumor'] = \"Autoimmune\"\n",
    "Ptz_1425_IEL_Normal.obs['CellFromTumor'] = \"Autoimmune\"\n",
    "\n",
    "\n",
    "Ptz_1425_LP_Normal.obs['PatientNumber'] = \"Ptz_1425\"\n",
    "Ptz_1425_IEL_Normal.obs['PatientNumber'] = \"Ptz_1425\"\n",
    "\n",
    "Ptz_1425_LP_Normal.obs['TumorType'] = \"IBD\"\n",
    "Ptz_1425_IEL_Normal.obs['TumorType'] = \"IBD\"\n",
    "\n",
    "\n",
    "Ptz_1425_LP_Normal.obs['TumorSite'] = \"LP\"\n",
    "Ptz_1425_IEL_Normal.obs['TumorSite'] = \"IEL\"\n",
    "\n",
    "\n",
    "Ptz_1425_LP_Normal.obs['CellType'] = \"Normal\"\n",
    "Ptz_1425_IEL_Normal.obs['CellType'] = \"Normal\"\n",
    "\n",
    "\n",
    "Ptz_1425_LP_Normal.obs['dataset'] = \"GSE157477\"\n",
    "Ptz_1425_IEL_Normal.obs['dataset'] = \"GSE157477\"\n",
    "\n",
    "Ptz_1425_LP_Normal.write(\"/mnt/lugli/spuccio/SP028_Autoimmunity/Cariplo/CROHN_counts/h5files/Ptz_1425_LP_Normal.h5ad\")\n",
    "Ptz_1425_IEL_Normal.write(\"/mnt/lugli/spuccio/SP028_Autoimmunity/Cariplo/CROHN_counts/h5files/Ptz_1425_IEL_Normal.h5ad\")\n",
    "\n",
    "\n",
    "del Ptz_1425_LP_Normal\n",
    "del Ptz_1425_IEL_Normal"
   ]
  },
  {
   "cell_type": "markdown",
   "id": "e654941c",
   "metadata": {},
   "source": [
    "### PTZ_1813"
   ]
  },
  {
   "cell_type": "code",
   "execution_count": 9,
   "id": "7419d53b",
   "metadata": {},
   "outputs": [
    {
     "name": "stderr",
     "output_type": "stream",
     "text": [
      "--> This might be very slow. Consider passing `cache=True`, which enables much faster reading from a cache file.\n",
      "--> This might be very slow. Consider passing `cache=True`, which enables much faster reading from a cache file.\n",
      "--> This might be very slow. Consider passing `cache=True`, which enables much faster reading from a cache file.\n",
      "--> This might be very slow. Consider passing `cache=True`, which enables much faster reading from a cache file.\n",
      "... storing 'CellFromTumor' as categorical\n",
      "... storing 'PatientNumber' as categorical\n",
      "... storing 'TumorType' as categorical\n",
      "... storing 'TumorSite' as categorical\n",
      "... storing 'CellType' as categorical\n",
      "... storing 'dataset' as categorical\n",
      "... storing 'CellFromTumor' as categorical\n",
      "... storing 'PatientNumber' as categorical\n",
      "... storing 'TumorType' as categorical\n",
      "... storing 'TumorSite' as categorical\n",
      "... storing 'CellType' as categorical\n",
      "... storing 'dataset' as categorical\n",
      "... storing 'CellFromTumor' as categorical\n",
      "... storing 'PatientNumber' as categorical\n",
      "... storing 'TumorSite' as categorical\n",
      "... storing 'CellType' as categorical\n",
      "... storing 'dataset' as categorical\n",
      "... storing 'CellFromTumor' as categorical\n",
      "... storing 'PatientNumber' as categorical\n",
      "... storing 'TumorType' as categorical\n",
      "... storing 'TumorSite' as categorical\n",
      "... storing 'CellType' as categorical\n",
      "... storing 'dataset' as categorical\n"
     ]
    }
   ],
   "source": [
    "PTZ_1813_LP_Involved = sc.read_10x_mtx(\"/mnt/lugli/spuccio/SP028_Autoimmunity/Cariplo/CROHN_counts/GSM4766841_CD-1813-4\")\n",
    "PTZ_1813_LP_Uninvolved = sc.read_10x_mtx(\"/mnt/lugli/spuccio/SP028_Autoimmunity/Cariplo/CROHN_counts/GSM4766842_CD-1813-6\")\n",
    "PTZ_1813_IEL_Involved = sc.read_10x_mtx(\"/mnt/lugli/spuccio/SP028_Autoimmunity/Cariplo/CROHN_counts/GSM4766847_CD-1813-1\")\n",
    "PTZ_1813_IEL_Uninvolved = sc.read_10x_mtx(\"/mnt/lugli/spuccio/SP028_Autoimmunity/Cariplo/CROHN_counts/GSM4766848_CD-1813-2\")\n",
    "\n",
    "\n",
    "PTZ_1813_LP_Involved.obs['CellId'] = PTZ_1813_LP_Involved.obs.index\n",
    "PTZ_1813_LP_Uninvolved.obs['CellId'] = PTZ_1813_LP_Uninvolved.obs.index\n",
    "PTZ_1813_IEL_Involved.obs['CellId'] = PTZ_1813_IEL_Involved.obs.index\n",
    "PTZ_1813_IEL_Uninvolved.obs['CellId'] = PTZ_1813_IEL_Uninvolved.obs.index\n",
    "\n",
    "\n",
    "PTZ_1813_LP_Involved.obs['CellFromTumor'] = \"Autoimmune\"\n",
    "PTZ_1813_LP_Uninvolved.obs['CellFromTumor'] = \"Autoimmune\"\n",
    "PTZ_1813_IEL_Involved.obs['CellFromTumor'] = \"Autoimmune\"\n",
    "PTZ_1813_IEL_Uninvolved.obs['CellFromTumor'] = \"Autoimmune\"\n",
    "\n",
    "\n",
    "PTZ_1813_LP_Involved.obs['PatientNumber'] = \"Ptz_1813\"\n",
    "PTZ_1813_LP_Uninvolved.obs['PatientNumber'] = \"Ptz_1813\"\n",
    "PTZ_1813_IEL_Involved.obs['PatientNumber'] = \"Ptz_1813\"\n",
    "PTZ_1813_IEL_Uninvolved.obs['PatientNumber'] = \"Ptz_1813\"\n",
    "\n",
    "PTZ_1813_LP_Involved.obs['TumorType'] = \"IBD\"\n",
    "PTZ_1813_LP_Uninvolved.obs['TumorType'] = \"IBD\"\n",
    "PTZ_1813_LP_Involved.obs['TumorType'] = \"IBD\"\n",
    "PTZ_1813_IEL_Uninvolved.obs['TumorType'] = \"IBD\"\n",
    "\n",
    "PTZ_1813_LP_Involved.obs['TumorSite'] = \"LP\"\n",
    "PTZ_1813_LP_Uninvolved.obs['TumorSite'] = \"LP\"\n",
    "PTZ_1813_IEL_Involved.obs['TumorSite'] = \"IEL\"\n",
    "PTZ_1813_IEL_Uninvolved.obs['TumorSite'] = \"IEL\"\n",
    "\n",
    "PTZ_1813_LP_Involved.obs['CellType'] = \"Involved\"\n",
    "PTZ_1813_LP_Uninvolved.obs['CellType'] = \"Uninvolved\"\n",
    "PTZ_1813_IEL_Involved.obs['CellType'] = \"Involved\"\n",
    "PTZ_1813_IEL_Uninvolved.obs['CellType'] = \"Uninvolved\"\n",
    "\n",
    "PTZ_1813_LP_Involved.obs['dataset'] = \"GSE157477\"\n",
    "PTZ_1813_LP_Uninvolved.obs['dataset'] = \"GSE157477\"\n",
    "PTZ_1813_IEL_Involved.obs['dataset'] = \"GSE157477\"\n",
    "PTZ_1813_IEL_Uninvolved.obs['dataset'] = \"GSE157477\"\n",
    "\n",
    "PTZ_1813_LP_Involved.write(\"/mnt/lugli/spuccio/SP028_Autoimmunity/Cariplo/CROHN_counts/h5files/PTZ_1813_LP_Involved.h5ad\")\n",
    "PTZ_1813_LP_Uninvolved.write(\"/mnt/lugli/spuccio/SP028_Autoimmunity/Cariplo/CROHN_counts/h5files/PTZ_1813_LP_Uninvolved.h5ad\")\n",
    "PTZ_1813_IEL_Involved.write(\"/mnt/lugli/spuccio/SP028_Autoimmunity/Cariplo/CROHN_counts/h5files/PTZ_1813_IEL_Involved.h5ad\")\n",
    "PTZ_1813_IEL_Uninvolved.write(\"/mnt/lugli/spuccio/SP028_Autoimmunity/Cariplo/CROHN_counts/h5files/PTZ_1813_IEL_Uninvolved.h5ad\")\n",
    "\n",
    "\n",
    "del PTZ_1813_LP_Involved\n",
    "del PTZ_1813_LP_Uninvolved\n",
    "del PTZ_1813_IEL_Involved\n",
    "del PTZ_1813_IEL_Uninvolved"
   ]
  },
  {
   "cell_type": "markdown",
   "id": "0d71a831",
   "metadata": {},
   "source": [
    "### PTZ_1818"
   ]
  },
  {
   "cell_type": "code",
   "execution_count": 10,
   "id": "a64fba11",
   "metadata": {},
   "outputs": [
    {
     "name": "stderr",
     "output_type": "stream",
     "text": [
      "--> This might be very slow. Consider passing `cache=True`, which enables much faster reading from a cache file.\n",
      "--> This might be very slow. Consider passing `cache=True`, which enables much faster reading from a cache file.\n",
      "... storing 'CellFromTumor' as categorical\n",
      "... storing 'PatientNumber' as categorical\n",
      "... storing 'TumorType' as categorical\n",
      "... storing 'TumorSite' as categorical\n",
      "... storing 'CellType' as categorical\n",
      "... storing 'dataset' as categorical\n",
      "... storing 'CellFromTumor' as categorical\n",
      "... storing 'PatientNumber' as categorical\n",
      "... storing 'TumorType' as categorical\n",
      "... storing 'TumorSite' as categorical\n",
      "... storing 'CellType' as categorical\n",
      "... storing 'dataset' as categorical\n"
     ]
    }
   ],
   "source": [
    "PTZ_1818_LP_Involved = sc.read_10x_mtx(\"/mnt/lugli/spuccio/SP028_Autoimmunity/Cariplo/CROHN_counts/GSM4766843_CD-1818-3\")\n",
    "PTZ_1818_LP_Uninvolved = sc.read_10x_mtx(\"/mnt/lugli/spuccio/SP028_Autoimmunity/Cariplo/CROHN_counts/GSM4766844_CD-1818-5\")\n",
    "\n",
    "\n",
    "\n",
    "PTZ_1818_LP_Involved.obs['CellId'] = PTZ_1818_LP_Involved.obs.index\n",
    "PTZ_1818_LP_Uninvolved.obs['CellId'] = PTZ_1818_LP_Uninvolved.obs.index\n",
    "\n",
    "\n",
    "\n",
    "PTZ_1818_LP_Involved.obs['CellFromTumor'] = \"Autoimmune\"\n",
    "PTZ_1818_LP_Uninvolved.obs['CellFromTumor'] = \"Autoimmune\"\n",
    "\n",
    "\n",
    "\n",
    "PTZ_1818_LP_Involved.obs['PatientNumber'] = \"Ptz_1813\"\n",
    "PTZ_1818_LP_Uninvolved.obs['PatientNumber'] = \"Ptz_1813\"\n",
    "\n",
    "\n",
    "PTZ_1818_LP_Involved.obs['TumorType'] = \"IBD\"\n",
    "PTZ_1818_LP_Uninvolved.obs['TumorType'] = \"IBD\"\n",
    "\n",
    "\n",
    "PTZ_1818_LP_Involved.obs['TumorSite'] = \"LP\"\n",
    "PTZ_1818_LP_Uninvolved.obs['TumorSite'] = \"LP\"\n",
    "\n",
    "\n",
    "PTZ_1818_LP_Involved.obs['CellType'] = \"Involved\"\n",
    "PTZ_1818_LP_Uninvolved.obs['CellType'] = \"Uninvolved\"\n",
    "\n",
    "\n",
    "PTZ_1818_LP_Involved.obs['dataset'] = \"GSE157477\"\n",
    "PTZ_1818_LP_Uninvolved.obs['dataset'] = \"GSE157477\"\n",
    "\n",
    "\n",
    "PTZ_1818_LP_Involved.write(\"/mnt/lugli/spuccio/SP028_Autoimmunity/Cariplo/CROHN_counts/h5files/PTZ_1818_LP_Involved.h5ad\")\n",
    "PTZ_1818_LP_Uninvolved.write(\"/mnt/lugli/spuccio/SP028_Autoimmunity/Cariplo/CROHN_counts/h5files/PTZ_1818_LP_Uninvolved.h5ad\")\n",
    "\n",
    "\n",
    "del PTZ_1818_LP_Involved\n",
    "del PTZ_1818_LP_Uninvolved\n"
   ]
  },
  {
   "cell_type": "code",
   "execution_count": null,
   "id": "602cddd8",
   "metadata": {},
   "outputs": [],
   "source": []
  }
 ],
 "metadata": {
  "kernelspec": {
   "display_name": "Python 3",
   "language": "python",
   "name": "python3"
  },
  "language_info": {
   "codemirror_mode": {
    "name": "ipython",
    "version": 3
   },
   "file_extension": ".py",
   "mimetype": "text/x-python",
   "name": "python",
   "nbconvert_exporter": "python",
   "pygments_lexer": "ipython3",
   "version": "3.9.4"
  }
 },
 "nbformat": 4,
 "nbformat_minor": 5
}
