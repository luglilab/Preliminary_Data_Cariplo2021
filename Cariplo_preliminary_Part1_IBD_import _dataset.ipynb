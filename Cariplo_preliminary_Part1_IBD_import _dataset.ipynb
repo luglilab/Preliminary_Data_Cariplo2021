{
 "cells": [
  {
   "cell_type": "code",
   "execution_count": 3,
   "metadata": {},
   "outputs": [],
   "source": [
    "import scanpy as sc\n",
    "import numpy as np\n",
    "import scipy as sp\n",
    "import pandas as pd\n",
    "import matplotlib.pyplot as plt\n",
    "from matplotlib import rcParams\n",
    "from matplotlib import colors\n",
    "import seaborn as sb\n",
    "import rpy2.rinterface_lib.callbacks\n",
    "import logging\n",
    "import scrublet as scr\n",
    "from rpy2.robjects import pandas2ri\n",
    "import anndata2ri"
   ]
  },
  {
   "cell_type": "code",
   "execution_count": 4,
   "metadata": {},
   "outputs": [
    {
     "name": "stdout",
     "output_type": "stream",
     "text": [
      "The rpy2.ipython extension is already loaded. To reload it, use:\n",
      "  %reload_ext rpy2.ipython\n",
      "scanpy==1.7.2 anndata==0.7.6 umap==0.5.1 numpy==1.19.5 scipy==1.6.3 pandas==1.2.4 scikit-learn==0.24.2 statsmodels==0.12.2 python-igraph==0.9.1 louvain==0.7.0\n"
     ]
    }
   ],
   "source": [
    "# Ignore R warning messages\n",
    "#Note: this can be commented out to get more verbose R output\n",
    "rpy2.rinterface_lib.callbacks.logger.setLevel(logging.ERROR)\n",
    "\n",
    "# Automatically convert rpy2 outputs to pandas dataframes\n",
    "pandas2ri.activate()\n",
    "anndata2ri.activate()\n",
    "%load_ext rpy2.ipython\n",
    "\n",
    "plt.rcParams['figure.figsize']=(8,8) #rescale figures\n",
    "sc.settings.verbosity = 3\n",
    "#sc.set_figure_params(dpi=200, dpi_save=300)\n",
    "sc.logging.print_header()"
   ]
  },
  {
   "cell_type": "markdown",
   "metadata": {},
   "source": [
    "## Ptz5"
   ]
  },
  {
   "cell_type": "code",
   "execution_count": 5,
   "metadata": {},
   "outputs": [
    {
     "name": "stderr",
     "output_type": "stream",
     "text": [
      "--> This might be very slow. Consider passing `cache=True`, which enables much faster reading from a cache file.\n",
      "--> This might be very slow. Consider passing `cache=True`, which enables much faster reading from a cache file.\n",
      "... storing 'CellFromTumor' as categorical\n",
      "... storing 'PatientNumber' as categorical\n",
      "... storing 'TumorType' as categorical\n",
      "... storing 'TumorSite' as categorical\n",
      "... storing 'CellType' as categorical\n",
      "... storing 'dataset' as categorical\n",
      "... storing 'CellFromTumor' as categorical\n",
      "... storing 'PatientNumber' as categorical\n",
      "... storing 'TumorType' as categorical\n",
      "... storing 'TumorSite' as categorical\n",
      "... storing 'CellType' as categorical\n",
      "... storing 'dataset' as categorical\n"
     ]
    }
   ],
   "source": [
    "Ptz_5_Ileum_Involved = sc.read_10x_mtx(\"/mnt/lugli/spuccio/SP028_Autoimmunity/Cariplo/IBD_counts/Ptz_5_IBD/Ileum_Involved/\")\n",
    "Ptz_5_Ileum_Uninvolved = sc.read_10x_mtx(\"/mnt/lugli/spuccio/SP028_Autoimmunity/Cariplo/IBD_counts/Ptz_5_IBD/Ileum_Uninvolved/\")\n",
    "#Ptz_5_Blood = sc.read_10x_mtx(\"/mnt/lugli/spuccio/SP028_Autoimmunity/Cariplo/IBD_counts/Ptz_5_IBD/Blood/\")\n",
    "\n",
    "Ptz_5_Ileum_Involved.obs['CellId'] = Ptz_5_Ileum_Involved.obs.index\n",
    "Ptz_5_Ileum_Uninvolved.obs['CellId'] = Ptz_5_Ileum_Uninvolved.obs.index\n",
    "#Ptz_5_Blood.obs['CellId'] = Ptz_5_Blood.obs.index\n",
    "\n",
    "Ptz_5_Ileum_Involved.obs['CellFromTumor'] = \"Autoimmune\"\n",
    "Ptz_5_Ileum_Uninvolved.obs['CellFromTumor'] = \"Autoimmune\"\n",
    "#Ptz_5_Blood.obs['CellFromTumor'] = \"Autoimmune\"\n",
    "\n",
    "Ptz_5_Ileum_Involved.obs['PatientNumber'] = \"Ptz5\"\n",
    "Ptz_5_Ileum_Uninvolved.obs['PatientNumber'] = \"Ptz5\"\n",
    "#Ptz_5_Blood.obs['PatientNumber'] = \"Ptz5\"\n",
    "\n",
    "Ptz_5_Ileum_Involved.obs['TumorType'] = \"IBD\"\n",
    "Ptz_5_Ileum_Uninvolved.obs['TumorType'] = \"IBD\"\n",
    "#Ptz_5_Blood.obs['TumorType'] = \"IBD\"\n",
    "\n",
    "Ptz_5_Ileum_Involved.obs['TumorSite'] = \"Ileum\"\n",
    "Ptz_5_Ileum_Uninvolved.obs['TumorSite'] = \"Ileum\"\n",
    "#Ptz_5_Blood.obs['TumorSite'] = \"PBMC\"\n",
    "\n",
    "Ptz_5_Ileum_Involved.obs['CellType'] = \"Involved\"\n",
    "Ptz_5_Ileum_Uninvolved.obs['CellType'] = \"UnInvolved\"\n",
    "#Ptz_5_Blood.obs['CellType'] = \"PBMC\"\n",
    "\n",
    "Ptz_5_Ileum_Involved.obs['dataset'] = \"GSE134809\"\n",
    "Ptz_5_Ileum_Uninvolved.obs['dataset'] = \"GSE134809\"\n",
    "#Ptz_5_Blood.obs['dataset'] = \"10X 3 V1\"\n",
    "\n",
    "Ptz_5_Ileum_Involved.write(\"/mnt/lugli/spuccio/SP028_Autoimmunity/Cariplo/IBD_counts/h5files/Ptz_5_Ileum_Involved.h5ad\")\n",
    "Ptz_5_Ileum_Uninvolved.write(\"/mnt/lugli/spuccio/SP028_Autoimmunity/Cariplo/IBD_counts/h5files/Ptz_5_Ileum_Uninvolved.h5ad\")\n",
    "#Ptz_5_Blood.write(\"/mnt/lugli/spuccio/SP028_Autoimmunity/Cariplo/IBD_counts/h5files/Ptz_5_Blood.h5ad\")\n",
    "\n",
    "del Ptz_5_Ileum_Involved\n",
    "del Ptz_5_Ileum_Uninvolved\n",
    "#del Ptz_5_Blood"
   ]
  },
  {
   "cell_type": "markdown",
   "metadata": {},
   "source": [
    "## Ptz 7"
   ]
  },
  {
   "cell_type": "code",
   "execution_count": 6,
   "metadata": {},
   "outputs": [
    {
     "name": "stderr",
     "output_type": "stream",
     "text": [
      "--> This might be very slow. Consider passing `cache=True`, which enables much faster reading from a cache file.\n",
      "--> This might be very slow. Consider passing `cache=True`, which enables much faster reading from a cache file.\n",
      "... storing 'CellFromTumor' as categorical\n",
      "... storing 'PatientNumber' as categorical\n",
      "... storing 'TumorType' as categorical\n",
      "... storing 'TumorSite' as categorical\n",
      "... storing 'CellType' as categorical\n",
      "... storing 'dataset' as categorical\n",
      "... storing 'CellFromTumor' as categorical\n",
      "... storing 'PatientNumber' as categorical\n",
      "... storing 'TumorType' as categorical\n",
      "... storing 'TumorSite' as categorical\n",
      "... storing 'CellType' as categorical\n",
      "... storing 'dataset' as categorical\n"
     ]
    }
   ],
   "source": [
    "Ptz_7_Ileum_Involved = sc.read_10x_mtx(\"/mnt/lugli/spuccio/SP028_Autoimmunity/Cariplo/IBD_counts/Ptz_7_IBD/Ileum_Involved/\")\n",
    "Ptz_7_Ileum_Uninvolved = sc.read_10x_mtx(\"/mnt/lugli/spuccio/SP028_Autoimmunity/Cariplo/IBD_counts/Ptz_7_IBD/Ileum_Uninvolved/\")\n",
    "#Ptz_7_Blood = sc.read_10x_mtx(\"/mnt/lugli/spuccio/SP028_Autoimmunity/Cariplo/IBD_counts/Ptz_7_IBD/Blood/\")\n",
    "\n",
    "Ptz_7_Ileum_Involved.obs['CellId'] = Ptz_7_Ileum_Involved.obs.index\n",
    "Ptz_7_Ileum_Uninvolved.obs['CellId'] = Ptz_7_Ileum_Uninvolved.obs.index\n",
    "#Ptz_7_Blood.obs['CellId'] = Ptz_7_Blood.obs.index\n",
    "\n",
    "Ptz_7_Ileum_Involved.obs['CellFromTumor'] = \"Autoimmune\"\n",
    "Ptz_7_Ileum_Uninvolved.obs['CellFromTumor'] = \"Autoimmune\"\n",
    "# Ptz_7_Blood.obs['CellFromTumor'] = \"Autoimmune\"\n",
    "\n",
    "Ptz_7_Ileum_Involved.obs['PatientNumber'] = \"Ptz7\"\n",
    "Ptz_7_Ileum_Uninvolved.obs['PatientNumber'] = \"Ptz7\"\n",
    "# Ptz_7_Blood.obs['PatientNumber'] = \"Ptz7\"\n",
    "\n",
    "Ptz_7_Ileum_Involved.obs['TumorType'] = \"IBD\"\n",
    "Ptz_7_Ileum_Uninvolved.obs['TumorType'] = \"IBD\"\n",
    "# Ptz_7_Blood.obs['TumorType'] = \"IBD\"\n",
    "\n",
    "Ptz_7_Ileum_Involved.obs['TumorSite'] = \"Ileum\"\n",
    "Ptz_7_Ileum_Uninvolved.obs['TumorSite'] = \"Ileum\"\n",
    "# Ptz_7_Blood.obs['TumorSite'] = \"PBMC\"\n",
    "\n",
    "Ptz_7_Ileum_Involved.obs['CellType'] = \"Involved\"\n",
    "Ptz_7_Ileum_Uninvolved.obs['CellType'] = \"UnInvolved\"\n",
    "# Ptz_7_Blood.obs['CellType'] = \"PBMC\"\n",
    "\n",
    "Ptz_7_Ileum_Involved.obs['dataset'] = \"GSE134809\"\n",
    "Ptz_7_Ileum_Uninvolved.obs['dataset'] = \"GSE134809\"\n",
    "# Ptz_7_Blood.obs['dataset'] = \"10X 3 V2\"\n",
    "\n",
    "Ptz_7_Ileum_Involved.write(\"/mnt/lugli/spuccio/SP028_Autoimmunity/Cariplo/IBD_counts/h5files/Ptz_7_Ileum_Involved.h5ad\")\n",
    "Ptz_7_Ileum_Uninvolved.write(\"/mnt/lugli/spuccio/SP028_Autoimmunity/Cariplo/IBD_counts/h5files/Ptz_7_Ileum_Uninvolved.h5ad\")\n",
    "# Ptz_7_Blood.write(\"/mnt/lugli/spuccio/SP028_Autoimmunity/Cariplo/IBD_counts/h5files/Ptz_7_Blood.h5ad\")\n",
    "\n",
    "del Ptz_7_Ileum_Involved\n",
    "del Ptz_7_Ileum_Uninvolved\n",
    "# del Ptz_7_Blood"
   ]
  },
  {
   "cell_type": "markdown",
   "metadata": {},
   "source": [
    "## Ptz8"
   ]
  },
  {
   "cell_type": "code",
   "execution_count": 7,
   "metadata": {},
   "outputs": [
    {
     "name": "stderr",
     "output_type": "stream",
     "text": [
      "--> This might be very slow. Consider passing `cache=True`, which enables much faster reading from a cache file.\n",
      "--> This might be very slow. Consider passing `cache=True`, which enables much faster reading from a cache file.\n",
      "... storing 'CellFromTumor' as categorical\n",
      "... storing 'PatientNumber' as categorical\n",
      "... storing 'TumorType' as categorical\n",
      "... storing 'TumorSite' as categorical\n",
      "... storing 'CellType' as categorical\n",
      "... storing 'dataset' as categorical\n",
      "... storing 'CellFromTumor' as categorical\n",
      "... storing 'PatientNumber' as categorical\n",
      "... storing 'TumorType' as categorical\n",
      "... storing 'TumorSite' as categorical\n",
      "... storing 'CellType' as categorical\n",
      "... storing 'dataset' as categorical\n"
     ]
    }
   ],
   "source": [
    "Ptz_8_Ileum_Involved = sc.read_10x_mtx(\"/mnt/lugli/spuccio/SP028_Autoimmunity/Cariplo/IBD_counts/Ptz_8_IBD/Ileum_Involved/\")\n",
    "Ptz_8_Ileum_Uninvolved = sc.read_10x_mtx(\"/mnt/lugli/spuccio/SP028_Autoimmunity/Cariplo/IBD_counts/Ptz_8_IBD/Ileum_Uninvolved/\")\n",
    "#Ptz_8_Blood = sc.read_10x_mtx(\"/mnt/lugli/spuccio/SP028_Autoimmunity/Cariplo/IBD_counts/Ptz_8_IBD/Blood/\")\n",
    "\n",
    "Ptz_8_Ileum_Involved.obs['CellId'] = Ptz_8_Ileum_Involved.obs.index\n",
    "Ptz_8_Ileum_Uninvolved.obs['CellId'] = Ptz_8_Ileum_Uninvolved.obs.index\n",
    "#Ptz_8_Blood.obs['CellId'] = Ptz_8_Blood.obs.index\n",
    "\n",
    "Ptz_8_Ileum_Involved.obs['CellFromTumor'] = \"Autoimmune\"\n",
    "Ptz_8_Ileum_Uninvolved.obs['CellFromTumor'] = \"Autoimmune\"\n",
    "# Ptz_8_Blood.obs['CellFromTumor'] = \"Autoimmune\"\n",
    "\n",
    "Ptz_8_Ileum_Involved.obs['PatientNumber'] = \"Ptz8\"\n",
    "Ptz_8_Ileum_Uninvolved.obs['PatientNumber'] = \"Ptz8\"\n",
    "# Ptz_8_Blood.obs['PatientNumber'] = \"Ptz8\"\n",
    "\n",
    "Ptz_8_Ileum_Involved.obs['TumorType'] = \"IBD\"\n",
    "Ptz_8_Ileum_Uninvolved.obs['TumorType'] = \"IBD\"\n",
    "# Ptz_8_Blood.obs['TumorType'] = \"IBD\"\n",
    "\n",
    "Ptz_8_Ileum_Involved.obs['TumorSite'] = \"Ileum\"\n",
    "Ptz_8_Ileum_Uninvolved.obs['TumorSite'] = \"Ileum\"\n",
    "# Ptz_8_Blood.obs['TumorSite'] = \"PBMC\"\n",
    "\n",
    "Ptz_8_Ileum_Involved.obs['CellType'] = \"Involved\"\n",
    "Ptz_8_Ileum_Uninvolved.obs['CellType'] = \"UnInvolved\"\n",
    "# Ptz_8_Blood.obs['CellType'] = \"PBMC\"\n",
    "\n",
    "Ptz_8_Ileum_Involved.obs['dataset'] = \"GSE134809\"\n",
    "Ptz_8_Ileum_Uninvolved.obs['dataset'] = \"GSE134809\"\n",
    "# Ptz_8_Blood.obs['dataset'] = \"10X 3 V2\"\n",
    "\n",
    "Ptz_8_Ileum_Involved.write(\"/mnt/lugli/spuccio/SP028_Autoimmunity/Cariplo/IBD_counts/h5files/Ptz_8_Ileum_Involved.h5ad\")\n",
    "Ptz_8_Ileum_Uninvolved.write(\"/mnt/lugli/spuccio/SP028_Autoimmunity/Cariplo/IBD_counts/h5files/Ptz_8_Ileum_Uninvolved.h5ad\")\n",
    "# Ptz_8_Blood.write(\"/mnt/lugli/spuccio/SP028_Autoimmunity/Cariplo/IBD_counts/h5files/Ptz_8_Blood.h5ad\")\n",
    "\n",
    "del Ptz_8_Ileum_Involved\n",
    "del Ptz_8_Ileum_Uninvolved\n",
    "# del Ptz_8_Blood"
   ]
  },
  {
   "cell_type": "markdown",
   "metadata": {},
   "source": [
    "## Ptz10"
   ]
  },
  {
   "cell_type": "code",
   "execution_count": 8,
   "metadata": {},
   "outputs": [
    {
     "name": "stderr",
     "output_type": "stream",
     "text": [
      "--> This might be very slow. Consider passing `cache=True`, which enables much faster reading from a cache file.\n",
      "--> This might be very slow. Consider passing `cache=True`, which enables much faster reading from a cache file.\n",
      "... storing 'CellFromTumor' as categorical\n",
      "... storing 'PatientNumber' as categorical\n",
      "... storing 'TumorType' as categorical\n",
      "... storing 'TumorSite' as categorical\n",
      "... storing 'CellType' as categorical\n",
      "... storing 'dataset' as categorical\n",
      "... storing 'CellFromTumor' as categorical\n",
      "... storing 'PatientNumber' as categorical\n",
      "... storing 'TumorType' as categorical\n",
      "... storing 'TumorSite' as categorical\n",
      "... storing 'CellType' as categorical\n",
      "... storing 'dataset' as categorical\n"
     ]
    }
   ],
   "source": [
    "Ptz_10_Ileum_Involved = sc.read_10x_mtx(\"/mnt/lugli/spuccio/SP028_Autoimmunity/Cariplo/IBD_counts/Ptz_10_IBD/Ileum_Involved/\")\n",
    "Ptz_10_Ileum_Uninvolved = sc.read_10x_mtx(\"/mnt/lugli/spuccio/SP028_Autoimmunity/Cariplo/IBD_counts/Ptz_10_IBD/Ileum_Uninvolved/\")\n",
    "# Ptz_10_Blood = sc.read_10x_mtx(\"/mnt/lugli/spuccio/SP028_Autoimmunity/Cariplo/IBD_counts/Ptz_10_IBD/Blood/\")\n",
    "\n",
    "Ptz_10_Ileum_Involved.obs['CellId'] = Ptz_10_Ileum_Involved.obs.index\n",
    "Ptz_10_Ileum_Uninvolved.obs['CellId'] = Ptz_10_Ileum_Uninvolved.obs.index\n",
    "# Ptz_10_Blood.obs['CellId'] = Ptz_10_Blood.obs.index\n",
    "\n",
    "Ptz_10_Ileum_Involved.obs['CellFromTumor'] = \"Autoimmune\"\n",
    "Ptz_10_Ileum_Uninvolved.obs['CellFromTumor'] = \"Autoimmune\"\n",
    "# Ptz_10_Blood.obs['CellFromTumor'] = \"Autoimmune\"\n",
    "\n",
    "Ptz_10_Ileum_Involved.obs['PatientNumber'] = \"Ptz10\"\n",
    "Ptz_10_Ileum_Uninvolved.obs['PatientNumber'] = \"Ptz10\"\n",
    "# Ptz_10_Blood.obs['PatientNumber'] = \"Ptz10\"\n",
    "\n",
    "Ptz_10_Ileum_Involved.obs['TumorType'] = \"IBD\"\n",
    "Ptz_10_Ileum_Uninvolved.obs['TumorType'] = \"IBD\"\n",
    "# Ptz_10_Blood.obs['TumorType'] = \"IBD\"\n",
    "\n",
    "Ptz_10_Ileum_Involved.obs['TumorSite'] = \"Ileum\"\n",
    "Ptz_10_Ileum_Uninvolved.obs['TumorSite'] = \"Ileum\"\n",
    "# Ptz_10_Blood.obs['TumorSite'] = \"PBMC\"\n",
    "\n",
    "Ptz_10_Ileum_Involved.obs['CellType'] = \"Involved\"\n",
    "Ptz_10_Ileum_Uninvolved.obs['CellType'] = \"UnInvolved\"\n",
    "# Ptz_10_Blood.obs['CellType'] = \"PBMC\"\n",
    "\n",
    "Ptz_10_Ileum_Involved.obs['dataset'] = \"GSE134809\"\n",
    "Ptz_10_Ileum_Uninvolved.obs['dataset'] = \"GSE134809\"\n",
    "# Ptz_10_Blood.obs['dataset'] = \"10X 3 V2\"\n",
    "\n",
    "Ptz_10_Ileum_Involved.write(\"/mnt/lugli/spuccio/SP028_Autoimmunity/Cariplo/IBD_counts/h5files/Ptz_10_Ileum_Involved.h5ad\")\n",
    "Ptz_10_Ileum_Uninvolved.write(\"/mnt/lugli/spuccio/SP028_Autoimmunity/Cariplo/IBD_counts/h5files/Ptz_10_Ileum_Uninvolved.h5ad\")\n",
    "# Ptz_10_Blood.write(\"/mnt/lugli/spuccio/SP028_Autoimmunity/Cariplo/IBD_counts/h5files/Ptz_10_Blood.h5ad\")\n",
    "\n",
    "del Ptz_10_Ileum_Involved\n",
    "del Ptz_10_Ileum_Uninvolved\n",
    "# del Ptz_10_Blood"
   ]
  },
  {
   "cell_type": "markdown",
   "metadata": {},
   "source": [
    "## Ptz11"
   ]
  },
  {
   "cell_type": "code",
   "execution_count": 9,
   "metadata": {},
   "outputs": [
    {
     "name": "stderr",
     "output_type": "stream",
     "text": [
      "--> This might be very slow. Consider passing `cache=True`, which enables much faster reading from a cache file.\n",
      "--> This might be very slow. Consider passing `cache=True`, which enables much faster reading from a cache file.\n",
      "... storing 'CellFromTumor' as categorical\n",
      "... storing 'PatientNumber' as categorical\n",
      "... storing 'TumorType' as categorical\n",
      "... storing 'TumorSite' as categorical\n",
      "... storing 'CellType' as categorical\n",
      "... storing 'dataset' as categorical\n",
      "... storing 'CellFromTumor' as categorical\n",
      "... storing 'PatientNumber' as categorical\n",
      "... storing 'TumorType' as categorical\n",
      "... storing 'TumorSite' as categorical\n",
      "... storing 'CellType' as categorical\n",
      "... storing 'dataset' as categorical\n"
     ]
    }
   ],
   "source": [
    "Ptz_11_Ileum_Involved = sc.read_10x_mtx(\"/mnt/lugli/spuccio/SP028_Autoimmunity/Cariplo/IBD_counts/Ptz_11_IBD/Ileum_Involved/\")\n",
    "Ptz_11_Ileum_Uninvolved = sc.read_10x_mtx(\"/mnt/lugli/spuccio/SP028_Autoimmunity/Cariplo/IBD_counts/Ptz_11_IBD/Ileum_Uninvolved/\")\n",
    "# Ptz_11_Blood = sc.read_10x_mtx(\"/mnt/lugli/spuccio/SP028_Autoimmunity/Cariplo/IBD_counts/Ptz_11_IBD/Blood/\")\n",
    "\n",
    "Ptz_11_Ileum_Involved.obs['CellId'] = Ptz_11_Ileum_Involved.obs.index\n",
    "Ptz_11_Ileum_Uninvolved.obs['CellId'] = Ptz_11_Ileum_Uninvolved.obs.index\n",
    "# Ptz_11_Blood.obs['CellId'] = Ptz_11_Blood.obs.index\n",
    "\n",
    "Ptz_11_Ileum_Involved.obs['CellFromTumor'] = \"Autoimmune\"\n",
    "Ptz_11_Ileum_Uninvolved.obs['CellFromTumor'] = \"Autoimmune\"\n",
    "# Ptz_11_Blood.obs['CellFromTumor'] = \"Autoimmune\"\n",
    "\n",
    "Ptz_11_Ileum_Involved.obs['PatientNumber'] = \"Ptz11\"\n",
    "Ptz_11_Ileum_Uninvolved.obs['PatientNumber'] = \"Ptz11\"\n",
    "# Ptz_11_Blood.obs['PatientNumber'] = \"Ptz11\"\n",
    "\n",
    "Ptz_11_Ileum_Involved.obs['TumorType'] = \"IBD\"\n",
    "Ptz_11_Ileum_Uninvolved.obs['TumorType'] = \"IBD\"\n",
    "# Ptz_11_Blood.obs['TumorType'] = \"IBD\"\n",
    "\n",
    "Ptz_11_Ileum_Involved.obs['TumorSite'] = \"Ileum\"\n",
    "Ptz_11_Ileum_Uninvolved.obs['TumorSite'] = \"Ileum\"\n",
    "# Ptz_11_Blood.obs['TumorSite'] = \"PBMC\"\n",
    "\n",
    "Ptz_11_Ileum_Involved.obs['CellType'] = \"Involved\"\n",
    "Ptz_11_Ileum_Uninvolved.obs['CellType'] = \"UnInvolved\"\n",
    "#Ptz_11_Blood.obs['CellType'] = \"PBMC\"\n",
    "\n",
    "Ptz_11_Ileum_Involved.obs['dataset'] = \"GSE134809\"\n",
    "Ptz_11_Ileum_Uninvolved.obs['dataset'] = \"GSE134809\"\n",
    "# Ptz_11_Blood.obs['dataset'] = \"10X 3 V2\"\n",
    "\n",
    "Ptz_11_Ileum_Involved.write(\"/mnt/lugli/spuccio/SP028_Autoimmunity/Cariplo/IBD_counts/h5files/Ptz_11_Ileum_Involved.h5ad\")\n",
    "Ptz_11_Ileum_Uninvolved.write(\"/mnt/lugli/spuccio/SP028_Autoimmunity/Cariplo/IBD_counts/h5files/Ptz_11_Ileum_Uninvolved.h5ad\")\n",
    "# Ptz_11_Blood.write(\"/mnt/lugli/spuccio/SP028_Autoimmunity/Cariplo/IBD_counts/h5files/Ptz_11_Blood.h5ad\")\n",
    "\n",
    "del Ptz_11_Ileum_Involved\n",
    "del Ptz_11_Ileum_Uninvolved\n",
    "# del Ptz_11_Blood"
   ]
  },
  {
   "cell_type": "markdown",
   "metadata": {},
   "source": [
    "## Ptz12"
   ]
  },
  {
   "cell_type": "code",
   "execution_count": 10,
   "metadata": {},
   "outputs": [
    {
     "name": "stderr",
     "output_type": "stream",
     "text": [
      "--> This might be very slow. Consider passing `cache=True`, which enables much faster reading from a cache file.\n",
      "--> This might be very slow. Consider passing `cache=True`, which enables much faster reading from a cache file.\n",
      "... storing 'CellFromTumor' as categorical\n",
      "... storing 'PatientNumber' as categorical\n",
      "... storing 'TumorType' as categorical\n",
      "... storing 'TumorSite' as categorical\n",
      "... storing 'CellType' as categorical\n",
      "... storing 'dataset' as categorical\n",
      "... storing 'CellFromTumor' as categorical\n",
      "... storing 'PatientNumber' as categorical\n",
      "... storing 'TumorType' as categorical\n",
      "... storing 'TumorSite' as categorical\n",
      "... storing 'CellType' as categorical\n",
      "... storing 'dataset' as categorical\n"
     ]
    }
   ],
   "source": [
    "Ptz_12_Ileum_Involved = sc.read_10x_mtx(\"/mnt/lugli/spuccio/SP028_Autoimmunity/Cariplo/IBD_counts/Ptz_12_IBD/Ileum_Involved/\")\n",
    "Ptz_12_Ileum_Uninvolved = sc.read_10x_mtx(\"/mnt/lugli/spuccio/SP028_Autoimmunity/Cariplo/IBD_counts/Ptz_12_IBD/Ileum_Uninvolved/\")\n",
    "# Ptz_12_Blood = sc.read_10x_mtx(\"/mnt/lugli/spuccio/SP028_Autoimmunity/Cariplo/IBD_counts/Ptz_12_IBD/Blood/\")\n",
    "\n",
    "Ptz_12_Ileum_Involved.obs['CellId'] = Ptz_12_Ileum_Involved.obs.index\n",
    "Ptz_12_Ileum_Uninvolved.obs['CellId'] = Ptz_12_Ileum_Uninvolved.obs.index\n",
    "#Ptz_12_Blood.obs['CellId'] = Ptz_12_Blood.obs.index\n",
    "\n",
    "Ptz_12_Ileum_Involved.obs['CellFromTumor'] = \"Autoimmune\"\n",
    "Ptz_12_Ileum_Uninvolved.obs['CellFromTumor'] = \"Autoimmune\"\n",
    "#Ptz_12_Blood.obs['CellFromTumor'] = \"Autoimmune\"\n",
    "\n",
    "Ptz_12_Ileum_Involved.obs['PatientNumber'] = \"Ptz12\"\n",
    "Ptz_12_Ileum_Uninvolved.obs['PatientNumber'] = \"Ptz12\"\n",
    "#Ptz_12_Blood.obs['PatientNumber'] = \"Ptz12\"\n",
    "\n",
    "Ptz_12_Ileum_Involved.obs['TumorType'] = \"IBD\"\n",
    "Ptz_12_Ileum_Uninvolved.obs['TumorType'] = \"IBD\"\n",
    "#Ptz_12_Blood.obs['TumorType'] = \"IBD\"\n",
    "\n",
    "Ptz_12_Ileum_Involved.obs['TumorSite'] = \"Ileum\"\n",
    "Ptz_12_Ileum_Uninvolved.obs['TumorSite'] = \"Ileum\"\n",
    "#Ptz_12_Blood.obs['TumorSite'] = \"PBMC\"\n",
    "\n",
    "Ptz_12_Ileum_Involved.obs['CellType'] = \"Involved\"\n",
    "Ptz_12_Ileum_Uninvolved.obs['CellType'] = \"UnInvolved\"\n",
    "#Ptz_12_Blood.obs['CellType'] = \"PBMC\"\n",
    "\n",
    "Ptz_12_Ileum_Involved.obs['dataset'] = \"GSE134809\"\n",
    "Ptz_12_Ileum_Uninvolved.obs['dataset'] = \"GSE134809\"\n",
    "#Ptz_12_Blood.obs['dataset'] = \"10X 3 V2\"\n",
    "\n",
    "Ptz_12_Ileum_Involved.write(\"/mnt/lugli/spuccio/SP028_Autoimmunity/Cariplo/IBD_counts/h5files/Ptz_12_Ileum_Involved.h5ad\")\n",
    "Ptz_12_Ileum_Uninvolved.write(\"/mnt/lugli/spuccio/SP028_Autoimmunity/Cariplo/IBD_counts/h5files/Ptz_12_Ileum_Uninvolved.h5ad\")\n",
    "#Ptz_12_Blood.write(\"/mnt/lugli/spuccio/SP028_Autoimmunity/Cariplo/IBD_counts/h5files/Ptz_12_Blood.h5ad\")\n",
    "\n",
    "del Ptz_12_Ileum_Involved\n",
    "del Ptz_12_Ileum_Uninvolved\n",
    "#del Ptz_12_Blood"
   ]
  },
  {
   "cell_type": "markdown",
   "metadata": {},
   "source": [
    "## Ptz13"
   ]
  },
  {
   "cell_type": "code",
   "execution_count": 11,
   "metadata": {},
   "outputs": [
    {
     "name": "stderr",
     "output_type": "stream",
     "text": [
      "--> This might be very slow. Consider passing `cache=True`, which enables much faster reading from a cache file.\n",
      "--> This might be very slow. Consider passing `cache=True`, which enables much faster reading from a cache file.\n",
      "... storing 'CellFromTumor' as categorical\n",
      "... storing 'PatientNumber' as categorical\n",
      "... storing 'TumorType' as categorical\n",
      "... storing 'TumorSite' as categorical\n",
      "... storing 'CellType' as categorical\n",
      "... storing 'dataset' as categorical\n",
      "... storing 'CellFromTumor' as categorical\n",
      "... storing 'PatientNumber' as categorical\n",
      "... storing 'TumorType' as categorical\n",
      "... storing 'TumorSite' as categorical\n",
      "... storing 'CellType' as categorical\n",
      "... storing 'dataset' as categorical\n"
     ]
    }
   ],
   "source": [
    "Ptz_13_Ileum_Involved = sc.read_10x_mtx(\"/mnt/lugli/spuccio/SP028_Autoimmunity/Cariplo/IBD_counts/Ptz_13_IBD/Ileum_Involved/\")\n",
    "Ptz_13_Ileum_Uninvolved = sc.read_10x_mtx(\"/mnt/lugli/spuccio/SP028_Autoimmunity/Cariplo/IBD_counts/Ptz_13_IBD/Ileum_Uninvolved/\")\n",
    "\n",
    "\n",
    "Ptz_13_Ileum_Involved.obs['CellId'] = Ptz_13_Ileum_Involved.obs.index\n",
    "Ptz_13_Ileum_Uninvolved.obs['CellId'] = Ptz_13_Ileum_Uninvolved.obs.index\n",
    "\n",
    "Ptz_13_Ileum_Involved.obs['CellFromTumor'] = \"Autoimmune\"\n",
    "Ptz_13_Ileum_Uninvolved.obs['CellFromTumor'] = \"Autoimmune\"\n",
    "\n",
    "\n",
    "Ptz_13_Ileum_Involved.obs['PatientNumber'] = \"Ptz13\"\n",
    "Ptz_13_Ileum_Uninvolved.obs['PatientNumber'] = \"Ptz13\"\n",
    "\n",
    "\n",
    "Ptz_13_Ileum_Involved.obs['TumorType'] = \"IBD\"\n",
    "Ptz_13_Ileum_Uninvolved.obs['TumorType'] = \"IBD\"\n",
    "\n",
    "\n",
    "Ptz_13_Ileum_Involved.obs['TumorSite'] = \"Ileum\"\n",
    "Ptz_13_Ileum_Uninvolved.obs['TumorSite'] = \"Ileum\"\n",
    "\n",
    "\n",
    "Ptz_13_Ileum_Involved.obs['CellType'] = \"Involved\"\n",
    "Ptz_13_Ileum_Uninvolved.obs['CellType'] = \"UnInvolved\"\n",
    "\n",
    "\n",
    "Ptz_13_Ileum_Involved.obs['dataset'] = \"GSE134809\"\n",
    "Ptz_13_Ileum_Uninvolved.obs['dataset'] = \"GSE134809\"\n",
    "\n",
    "\n",
    "Ptz_13_Ileum_Involved.write(\"/mnt/lugli/spuccio/SP028_Autoimmunity/Cariplo/IBD_counts/h5files/Ptz_13_Ileum_Involved.h5ad\")\n",
    "Ptz_13_Ileum_Uninvolved.write(\"/mnt/lugli/spuccio/SP028_Autoimmunity/Cariplo/IBD_counts/h5files/Ptz_13_Ileum_Uninvolved.h5ad\")\n",
    "\n",
    "del Ptz_13_Ileum_Involved\n",
    "del Ptz_13_Ileum_Uninvolved"
   ]
  },
  {
   "cell_type": "markdown",
   "metadata": {},
   "source": [
    "## Ptz14"
   ]
  },
  {
   "cell_type": "code",
   "execution_count": 12,
   "metadata": {},
   "outputs": [
    {
     "name": "stderr",
     "output_type": "stream",
     "text": [
      "--> This might be very slow. Consider passing `cache=True`, which enables much faster reading from a cache file.\n",
      "--> This might be very slow. Consider passing `cache=True`, which enables much faster reading from a cache file.\n",
      "... storing 'CellFromTumor' as categorical\n",
      "... storing 'PatientNumber' as categorical\n",
      "... storing 'TumorType' as categorical\n",
      "... storing 'TumorSite' as categorical\n",
      "... storing 'CellType' as categorical\n",
      "... storing 'dataset' as categorical\n",
      "... storing 'CellFromTumor' as categorical\n",
      "... storing 'PatientNumber' as categorical\n",
      "... storing 'TumorType' as categorical\n",
      "... storing 'TumorSite' as categorical\n",
      "... storing 'CellType' as categorical\n",
      "... storing 'dataset' as categorical\n"
     ]
    }
   ],
   "source": [
    "Ptz_14_Ileum_Involved = sc.read_10x_mtx(\"/mnt/lugli/spuccio/SP028_Autoimmunity/Cariplo/IBD_counts/Ptz_14_IBD/Ileum_Involved/\")\n",
    "Ptz_14_Ileum_Uninvolved = sc.read_10x_mtx(\"/mnt/lugli/spuccio/SP028_Autoimmunity/Cariplo/IBD_counts/Ptz_14_IBD/Ileum_Uninvolved/\")\n",
    "# Ptz_14_Blood = sc.read_10x_mtx(\"/mnt/lugli/spuccio/SP028_Autoimmunity/Cariplo/IBD_counts/Ptz_14_IBD/Blood/\")\n",
    "\n",
    "Ptz_14_Ileum_Involved.obs['CellId'] = Ptz_14_Ileum_Involved.obs.index\n",
    "Ptz_14_Ileum_Uninvolved.obs['CellId'] = Ptz_14_Ileum_Uninvolved.obs.index\n",
    "#Ptz_14_Blood.obs['CellId'] = Ptz_14_Blood.obs.index\n",
    "\n",
    "Ptz_14_Ileum_Involved.obs['CellFromTumor'] = \"Autoimmune\"\n",
    "Ptz_14_Ileum_Uninvolved.obs['CellFromTumor'] = \"Autoimmune\"\n",
    "#Ptz_14_Blood.obs['CellFromTumor'] = \"Autoimmune\"\n",
    "\n",
    "Ptz_14_Ileum_Involved.obs['PatientNumber'] = \"Ptz14\"\n",
    "Ptz_14_Ileum_Uninvolved.obs['PatientNumber'] = \"Ptz14\"\n",
    "#Ptz_14_Blood.obs['PatientNumber'] = \"Ptz14\"\n",
    "\n",
    "Ptz_14_Ileum_Involved.obs['TumorType'] = \"IBD\"\n",
    "Ptz_14_Ileum_Uninvolved.obs['TumorType'] = \"IBD\"\n",
    "#Ptz_14_Blood.obs['TumorType'] = \"IBD\"\n",
    "\n",
    "Ptz_14_Ileum_Involved.obs['TumorSite'] = \"Ileum\"\n",
    "Ptz_14_Ileum_Uninvolved.obs['TumorSite'] = \"Ileum\"\n",
    "#Ptz_14_Blood.obs['TumorSite'] = \"PBMC\"\n",
    "\n",
    "Ptz_14_Ileum_Involved.obs['CellType'] = \"Involved\"\n",
    "Ptz_14_Ileum_Uninvolved.obs['CellType'] = \"UnInvolved\"\n",
    "#Ptz_14_Blood.obs['CellType'] = \"PBMC\"\n",
    "\n",
    "Ptz_14_Ileum_Involved.obs['dataset'] = \"GSE134809\"\n",
    "Ptz_14_Ileum_Uninvolved.obs['dataset'] = \"GSE134809\"\n",
    "#Ptz_14_Blood.obs['dataset'] = \"10X 3 V2\"\n",
    "\n",
    "Ptz_14_Ileum_Involved.write(\"/mnt/lugli/spuccio/SP028_Autoimmunity/Cariplo/IBD_counts/h5files/Ptz_14_Ileum_Involved.h5ad\")\n",
    "Ptz_14_Ileum_Uninvolved.write(\"/mnt/lugli/spuccio/SP028_Autoimmunity/Cariplo/IBD_counts/h5files/Ptz_14_Ileum_Uninvolved.h5ad\")\n",
    "#Ptz_14_Blood.write(\"/mnt/lugli/spuccio/SP028_Autoimmunity/Cariplo/IBD_counts/h5files/Ptz_14_Blood.h5ad\")\n",
    "\n",
    "del Ptz_14_Ileum_Involved\n",
    "del Ptz_14_Ileum_Uninvolved\n",
    "#del Ptz_14_Blood"
   ]
  },
  {
   "cell_type": "markdown",
   "metadata": {},
   "source": [
    "## Ptz15"
   ]
  },
  {
   "cell_type": "code",
   "execution_count": 13,
   "metadata": {},
   "outputs": [
    {
     "name": "stderr",
     "output_type": "stream",
     "text": [
      "--> This might be very slow. Consider passing `cache=True`, which enables much faster reading from a cache file.\n",
      "--> This might be very slow. Consider passing `cache=True`, which enables much faster reading from a cache file.\n",
      "... storing 'CellFromTumor' as categorical\n",
      "... storing 'PatientNumber' as categorical\n",
      "... storing 'TumorType' as categorical\n",
      "... storing 'TumorSite' as categorical\n",
      "... storing 'CellType' as categorical\n",
      "... storing 'dataset' as categorical\n",
      "... storing 'CellFromTumor' as categorical\n",
      "... storing 'PatientNumber' as categorical\n",
      "... storing 'TumorType' as categorical\n",
      "... storing 'TumorSite' as categorical\n",
      "... storing 'CellType' as categorical\n",
      "... storing 'dataset' as categorical\n"
     ]
    }
   ],
   "source": [
    "Ptz_15_Ileum_Involved = sc.read_10x_mtx(\"/mnt/lugli/spuccio/SP028_Autoimmunity/Cariplo/IBD_counts/Ptz_15_IBD/Ileum_Involved/\")\n",
    "Ptz_15_Ileum_Uninvolved = sc.read_10x_mtx(\"/mnt/lugli/spuccio/SP028_Autoimmunity/Cariplo/IBD_counts/Ptz_15_IBD/Ileum_Uninvolved/\")\n",
    "#Ptz_15_Blood = sc.read_10x_mtx(\"/mnt/lugli/spuccio/SP028_Autoimmunity/Cariplo/IBD_counts/Ptz_15_IBD/Blood/\")\n",
    "\n",
    "Ptz_15_Ileum_Involved.obs['CellId'] = Ptz_15_Ileum_Involved.obs.index\n",
    "Ptz_15_Ileum_Uninvolved.obs['CellId'] = Ptz_15_Ileum_Uninvolved.obs.index\n",
    "#Ptz_15_Blood.obs['CellId'] = Ptz_15_Blood.obs.index\n",
    "\n",
    "Ptz_15_Ileum_Involved.obs['CellFromTumor'] = \"Autoimmune\"\n",
    "Ptz_15_Ileum_Uninvolved.obs['CellFromTumor'] = \"Autoimmune\"\n",
    "#Ptz_15_Blood.obs['CellFromTumor'] = \"Autoimmune\"\n",
    "\n",
    "Ptz_15_Ileum_Involved.obs['PatientNumber'] = \"Ptz15\"\n",
    "Ptz_15_Ileum_Uninvolved.obs['PatientNumber'] = \"Ptz15\"\n",
    "#Ptz_15_Blood.obs['PatientNumber'] = \"Ptz15\"\n",
    "\n",
    "Ptz_15_Ileum_Involved.obs['TumorType'] = \"IBD\"\n",
    "Ptz_15_Ileum_Uninvolved.obs['TumorType'] = \"IBD\"\n",
    "#Ptz_15_Blood.obs['TumorType'] = \"IBD\"\n",
    "\n",
    "Ptz_15_Ileum_Involved.obs['TumorSite'] = \"Ileum\"\n",
    "Ptz_15_Ileum_Uninvolved.obs['TumorSite'] = \"Ileum\"\n",
    "#Ptz_15_Blood.obs['TumorSite'] = \"PBMC\"\n",
    "\n",
    "Ptz_15_Ileum_Involved.obs['CellType'] = \"Involved\"\n",
    "Ptz_15_Ileum_Uninvolved.obs['CellType'] = \"UnInvolved\"\n",
    "#Ptz_15_Blood.obs['CellType'] = \"PBMC\"\n",
    "\n",
    "Ptz_15_Ileum_Involved.obs['dataset'] = \"GSE134809\"\n",
    "Ptz_15_Ileum_Uninvolved.obs['dataset'] = \"GSE134809\"\n",
    "#Ptz_15_Blood.obs['dataset'] = \"10X 3 V2\"\n",
    "\n",
    "Ptz_15_Ileum_Involved.write(\"/mnt/lugli/spuccio/SP028_Autoimmunity/Cariplo/IBD_counts/h5files/Ptz_15_Ileum_Involved.h5ad\")\n",
    "Ptz_15_Ileum_Uninvolved.write(\"/mnt/lugli/spuccio/SP028_Autoimmunity/Cariplo/IBD_counts/h5files/Ptz_15_Ileum_Uninvolved.h5ad\")\n",
    "#Ptz_15_Blood.write(\"/mnt/lugli/spuccio/SP028_Autoimmunity/Cariplo/IBD_counts/h5files/Ptz_15_Blood.h5ad\")\n",
    "\n",
    "del Ptz_15_Ileum_Involved\n",
    "del Ptz_15_Ileum_Uninvolved\n",
    "#del Ptz_15_Blood"
   ]
  },
  {
   "cell_type": "markdown",
   "metadata": {},
   "source": [
    "## Ptz16"
   ]
  },
  {
   "cell_type": "code",
   "execution_count": 14,
   "metadata": {},
   "outputs": [
    {
     "name": "stderr",
     "output_type": "stream",
     "text": [
      "--> This might be very slow. Consider passing `cache=True`, which enables much faster reading from a cache file.\n",
      "--> This might be very slow. Consider passing `cache=True`, which enables much faster reading from a cache file.\n",
      "... storing 'CellFromTumor' as categorical\n",
      "... storing 'PatientNumber' as categorical\n",
      "... storing 'TumorType' as categorical\n",
      "... storing 'TumorSite' as categorical\n",
      "... storing 'CellType' as categorical\n",
      "... storing 'dataset' as categorical\n",
      "... storing 'CellFromTumor' as categorical\n",
      "... storing 'PatientNumber' as categorical\n",
      "... storing 'TumorType' as categorical\n",
      "... storing 'TumorSite' as categorical\n",
      "... storing 'CellType' as categorical\n",
      "... storing 'dataset' as categorical\n"
     ]
    }
   ],
   "source": [
    "Ptz_16_Ileum_Involved = sc.read_10x_mtx(\"/mnt/lugli/spuccio/SP028_Autoimmunity/Cariplo/IBD_counts/Ptz_16_IBD/Ileum_Involved/\")\n",
    "Ptz_16_Ileum_Uninvolved = sc.read_10x_mtx(\"/mnt/lugli/spuccio/SP028_Autoimmunity/Cariplo/IBD_counts/Ptz_16_IBD/Ileum_Uninvolved/\")\n",
    "\n",
    "\n",
    "Ptz_16_Ileum_Involved.obs['CellId'] = Ptz_16_Ileum_Involved.obs.index\n",
    "Ptz_16_Ileum_Uninvolved.obs['CellId'] = Ptz_16_Ileum_Uninvolved.obs.index\n",
    "\n",
    "Ptz_16_Ileum_Involved.obs['CellFromTumor'] = \"Autoimmune\"\n",
    "Ptz_16_Ileum_Uninvolved.obs['CellFromTumor'] = \"Autoimmune\"\n",
    "\n",
    "\n",
    "Ptz_16_Ileum_Involved.obs['PatientNumber'] = \"Ptz16\"\n",
    "Ptz_16_Ileum_Uninvolved.obs['PatientNumber'] = \"Ptz16\"\n",
    "\n",
    "\n",
    "Ptz_16_Ileum_Involved.obs['TumorType'] = \"IBD\"\n",
    "Ptz_16_Ileum_Uninvolved.obs['TumorType'] = \"IBD\"\n",
    "\n",
    "\n",
    "Ptz_16_Ileum_Involved.obs['TumorSite'] = \"Ileum\"\n",
    "Ptz_16_Ileum_Uninvolved.obs['TumorSite'] = \"Ileum\"\n",
    "\n",
    "\n",
    "Ptz_16_Ileum_Involved.obs['CellType'] = \"Involved\"\n",
    "Ptz_16_Ileum_Uninvolved.obs['CellType'] = \"UnInvolved\"\n",
    "\n",
    "\n",
    "Ptz_16_Ileum_Involved.obs['dataset'] = \"GSE134809\"\n",
    "Ptz_16_Ileum_Uninvolved.obs['dataset'] = \"GSE134809\"\n",
    "\n",
    "\n",
    "Ptz_16_Ileum_Involved.write(\"/mnt/lugli/spuccio/SP028_Autoimmunity/Cariplo/IBD_counts/h5files/Ptz_16_Ileum_Involved.h5ad\")\n",
    "Ptz_16_Ileum_Uninvolved.write(\"/mnt/lugli/spuccio/SP028_Autoimmunity/Cariplo/IBD_counts/h5files/Ptz_16_Ileum_Uninvolved.h5ad\")\n",
    "\n",
    "del Ptz_16_Ileum_Involved\n",
    "del Ptz_16_Ileum_Uninvolved"
   ]
  }
 ],
 "metadata": {
  "kernelspec": {
   "display_name": "Python 3",
   "language": "python",
   "name": "python3"
  },
  "language_info": {
   "codemirror_mode": {
    "name": "ipython",
    "version": 3
   },
   "file_extension": ".py",
   "mimetype": "text/x-python",
   "name": "python",
   "nbconvert_exporter": "python",
   "pygments_lexer": "ipython3",
   "version": "3.9.4"
  }
 },
 "nbformat": 4,
 "nbformat_minor": 4
}
