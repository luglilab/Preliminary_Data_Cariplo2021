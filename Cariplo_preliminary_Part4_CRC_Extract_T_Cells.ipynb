{
 "cells": [
  {
   "cell_type": "code",
   "execution_count": 1,
   "id": "f1924a8b",
   "metadata": {},
   "outputs": [],
   "source": [
    "import scanpy as sc\n",
    "import numpy as np\n",
    "import scipy as sp\n",
    "import pandas as pd\n",
    "import matplotlib.pyplot as plt\n",
    "from matplotlib import rcParams\n",
    "from matplotlib import colors\n",
    "import seaborn as sb\n",
    "import rpy2.rinterface_lib.callbacks\n",
    "import logging\n",
    "import scrublet as scr\n",
    "from rpy2.robjects import pandas2ri\n",
    "import anndata2ri"
   ]
  },
  {
   "cell_type": "code",
   "execution_count": 2,
   "id": "d84ff595",
   "metadata": {},
   "outputs": [
    {
     "name": "stdout",
     "output_type": "stream",
     "text": [
      "scanpy==1.7.2 anndata==0.7.6 umap==0.5.1 numpy==1.19.5 scipy==1.6.3 pandas==1.2.4 scikit-learn==0.24.2 statsmodels==0.12.2 python-igraph==0.9.1 louvain==0.7.0\n"
     ]
    }
   ],
   "source": [
    "# Ignore R warning messages\n",
    "#Note: this can be commented out to get more verbose R output\n",
    "rpy2.rinterface_lib.callbacks.logger.setLevel(logging.ERROR)\n",
    "\n",
    "# Automatically convert rpy2 outputs to pandas dataframes\n",
    "pandas2ri.activate()\n",
    "anndata2ri.activate()\n",
    "%load_ext rpy2.ipython\n",
    "\n",
    "plt.rcParams['figure.figsize']=(8,8) #rescale figures\n",
    "sc.settings.verbosity = 3\n",
    "#sc.set_figure_params(dpi=200, dpi_save=300)\n",
    "sc.logging.print_header()"
   ]
  },
  {
   "cell_type": "code",
   "execution_count": 3,
   "id": "61088364",
   "metadata": {},
   "outputs": [],
   "source": [
    "%%R\n",
    "# Load libraries from correct lib Paths for my environment - ignore this!\n",
    ".libPaths(\"/home/spuccio/anaconda3/envs/singlecell/lib/R/library/\")\n",
    "\n",
    "library(clustree)\n"
   ]
  },
  {
   "cell_type": "code",
   "execution_count": 4,
   "id": "a5cc1761",
   "metadata": {},
   "outputs": [
    {
     "name": "stderr",
     "output_type": "stream",
     "text": [
      "... reading from cache file cache/home-spuccio-isilon-spuccio-SP025_NaClTcell-PangenomeBlueprint-CRC_counts-matrix.h5ad\n"
     ]
    }
   ],
   "source": [
    "path_CRC=\"/home/spuccio/isilon/spuccio/SP025_NaClTcell/PangenomeBlueprint/CRC_counts/\"\n",
    "adata_CRC = sc.read(\"\".join([path_CRC,\"matrix.mtx\"]), cache=True)\n",
    "adata_CRC = adata_CRC.transpose()\n",
    "adata_CRC.X = adata_CRC.X.toarray()\n",
    "barcodes = pd.read_csv(\"\".join([path_CRC,\"barcodes.tsv\"]), header=None, sep='\\t')\n",
    "genes = pd.read_csv(\"\".join([path_CRC,\"genes.tsv\"]), header=None, sep='\\t')\n",
    "#Annotate data\n",
    "barcodes.rename(columns={0:'barcode'}, inplace=True)\n",
    "barcodes.set_index('barcode', inplace=True)\n",
    "adata_CRC.obs = barcodes\n",
    "genes.rename(columns={0:'gene_id', 1:'gene_symbol'}, inplace=True)\n",
    "genes.set_index('gene_symbol', inplace=True)\n",
    "adata_CRC.var = genes\n",
    "Metadata_CRC = pd.read_csv(\"/home/spuccio/isilon/spuccio/SP025_NaClTcell/PangenomeBlueprint/CRC_metadata_2.csv\",header=0,low_memory=False)\n",
    "adata_CRC.obs['CellId'] = Metadata_CRC[\"Cell\"].to_list()\n",
    "adata_CRC.obs['CellFromTumor'] = Metadata_CRC[\"CellFromTumor\"].to_list()\n",
    "adata_CRC.obs['PatientNumber'] = Metadata_CRC[\"PTZ_PatientNumber\"].to_list()\n",
    "adata_CRC.obs['TumorType'] = Metadata_CRC[\"TumorType\"].to_list()\n",
    "adata_CRC.obs['TumorSite'] = Metadata_CRC[\"TumorSite\"].to_list()\n",
    "adata_CRC.obs['CellType'] = Metadata_CRC[\"CellType\"].to_list()"
   ]
  },
  {
   "cell_type": "code",
   "execution_count": 5,
   "id": "43bf7bb4",
   "metadata": {},
   "outputs": [],
   "source": [
    "adata_CRC_Tcell = adata_CRC[adata_CRC.obs['CellType']  == \"T_cell\",:]\n",
    "adata_CRC_Cancer = adata_CRC[adata_CRC.obs['CellType']  == \"Cancer\",:]"
   ]
  },
  {
   "cell_type": "code",
   "execution_count": 6,
   "id": "0818c077",
   "metadata": {},
   "outputs": [
    {
     "data": {
      "text/plain": [
       "View of AnnData object with n_obs × n_vars = 8788 × 33694\n",
       "    obs: 'CellId', 'CellFromTumor', 'PatientNumber', 'TumorType', 'TumorSite', 'CellType'\n",
       "    var: 'gene_id'"
      ]
     },
     "execution_count": 6,
     "metadata": {},
     "output_type": "execute_result"
    }
   ],
   "source": [
    "adata_CRC_Tcell"
   ]
  },
  {
   "cell_type": "code",
   "execution_count": 7,
   "id": "fae9f0c5",
   "metadata": {},
   "outputs": [
    {
     "name": "stderr",
     "output_type": "stream",
     "text": [
      "Trying to set attribute `.var` of view, copying.\n"
     ]
    },
    {
     "data": {
      "text/html": [
       "<div>\n",
       "<style scoped>\n",
       "    .dataframe tbody tr th:only-of-type {\n",
       "        vertical-align: middle;\n",
       "    }\n",
       "\n",
       "    .dataframe tbody tr th {\n",
       "        vertical-align: top;\n",
       "    }\n",
       "\n",
       "    .dataframe thead th {\n",
       "        text-align: right;\n",
       "    }\n",
       "</style>\n",
       "<table border=\"1\" class=\"dataframe\">\n",
       "  <thead>\n",
       "    <tr style=\"text-align: right;\">\n",
       "      <th></th>\n",
       "      <th>gene_id</th>\n",
       "      <th>mt</th>\n",
       "      <th>ribo</th>\n",
       "      <th>hb</th>\n",
       "    </tr>\n",
       "    <tr>\n",
       "      <th>gene_symbol</th>\n",
       "      <th></th>\n",
       "      <th></th>\n",
       "      <th></th>\n",
       "      <th></th>\n",
       "    </tr>\n",
       "  </thead>\n",
       "  <tbody>\n",
       "    <tr>\n",
       "      <th>RP11-34P13.3</th>\n",
       "      <td>RP11-34P13.3</td>\n",
       "      <td>False</td>\n",
       "      <td>False</td>\n",
       "      <td>False</td>\n",
       "    </tr>\n",
       "    <tr>\n",
       "      <th>FAM138A</th>\n",
       "      <td>FAM138A</td>\n",
       "      <td>False</td>\n",
       "      <td>False</td>\n",
       "      <td>False</td>\n",
       "    </tr>\n",
       "    <tr>\n",
       "      <th>OR4F5</th>\n",
       "      <td>OR4F5</td>\n",
       "      <td>False</td>\n",
       "      <td>False</td>\n",
       "      <td>False</td>\n",
       "    </tr>\n",
       "    <tr>\n",
       "      <th>RP11-34P13.7</th>\n",
       "      <td>RP11-34P13.7</td>\n",
       "      <td>False</td>\n",
       "      <td>False</td>\n",
       "      <td>False</td>\n",
       "    </tr>\n",
       "    <tr>\n",
       "      <th>RP11-34P13.8</th>\n",
       "      <td>RP11-34P13.8</td>\n",
       "      <td>False</td>\n",
       "      <td>False</td>\n",
       "      <td>False</td>\n",
       "    </tr>\n",
       "    <tr>\n",
       "      <th>...</th>\n",
       "      <td>...</td>\n",
       "      <td>...</td>\n",
       "      <td>...</td>\n",
       "      <td>...</td>\n",
       "    </tr>\n",
       "    <tr>\n",
       "      <th>AC233755.2</th>\n",
       "      <td>AC233755.2</td>\n",
       "      <td>False</td>\n",
       "      <td>False</td>\n",
       "      <td>False</td>\n",
       "    </tr>\n",
       "    <tr>\n",
       "      <th>AC233755.1</th>\n",
       "      <td>AC233755.1</td>\n",
       "      <td>False</td>\n",
       "      <td>False</td>\n",
       "      <td>False</td>\n",
       "    </tr>\n",
       "    <tr>\n",
       "      <th>AC240274.1</th>\n",
       "      <td>AC240274.1</td>\n",
       "      <td>False</td>\n",
       "      <td>False</td>\n",
       "      <td>False</td>\n",
       "    </tr>\n",
       "    <tr>\n",
       "      <th>AC213203.1</th>\n",
       "      <td>AC213203.1</td>\n",
       "      <td>False</td>\n",
       "      <td>False</td>\n",
       "      <td>False</td>\n",
       "    </tr>\n",
       "    <tr>\n",
       "      <th>FAM231B</th>\n",
       "      <td>FAM231B</td>\n",
       "      <td>False</td>\n",
       "      <td>False</td>\n",
       "      <td>False</td>\n",
       "    </tr>\n",
       "  </tbody>\n",
       "</table>\n",
       "<p>33694 rows × 4 columns</p>\n",
       "</div>"
      ],
      "text/plain": [
       "                   gene_id     mt   ribo     hb\n",
       "gene_symbol                                    \n",
       "RP11-34P13.3  RP11-34P13.3  False  False  False\n",
       "FAM138A            FAM138A  False  False  False\n",
       "OR4F5                OR4F5  False  False  False\n",
       "RP11-34P13.7  RP11-34P13.7  False  False  False\n",
       "RP11-34P13.8  RP11-34P13.8  False  False  False\n",
       "...                    ...    ...    ...    ...\n",
       "AC233755.2      AC233755.2  False  False  False\n",
       "AC233755.1      AC233755.1  False  False  False\n",
       "AC240274.1      AC240274.1  False  False  False\n",
       "AC213203.1      AC213203.1  False  False  False\n",
       "FAM231B            FAM231B  False  False  False\n",
       "\n",
       "[33694 rows x 4 columns]"
      ]
     },
     "execution_count": 7,
     "metadata": {},
     "output_type": "execute_result"
    }
   ],
   "source": [
    "# mitochondrial genes\n",
    "adata_CRC_Tcell.var['mt'] = adata_CRC_Tcell.var_names.str.startswith('MT-') \n",
    "# ribosomal genes\n",
    "adata_CRC_Tcell.var['ribo'] = adata_CRC_Tcell.var_names.str.startswith((\"RPS\",\"RPL\"))\n",
    "# hemoglobin genes.\n",
    "adata_CRC_Tcell.var['hb'] = adata_CRC_Tcell.var_names.str.contains((\"^HB[^(P)]\"))\n",
    "\n",
    "adata_CRC_Tcell.var"
   ]
  },
  {
   "cell_type": "code",
   "execution_count": 8,
   "id": "a89a1e6a",
   "metadata": {},
   "outputs": [
    {
     "data": {
      "text/plain": [
       "False    33681\n",
       "True        13\n",
       "Name: mt, dtype: int64"
      ]
     },
     "execution_count": 8,
     "metadata": {},
     "output_type": "execute_result"
    }
   ],
   "source": [
    "adata_CRC_Tcell.var['mt'].value_counts()"
   ]
  },
  {
   "cell_type": "code",
   "execution_count": 9,
   "id": "5dc4e166",
   "metadata": {},
   "outputs": [
    {
     "data": {
      "text/plain": [
       "False    33591\n",
       "True       103\n",
       "Name: ribo, dtype: int64"
      ]
     },
     "execution_count": 9,
     "metadata": {},
     "output_type": "execute_result"
    }
   ],
   "source": [
    "adata_CRC_Tcell.var['ribo'].value_counts()"
   ]
  },
  {
   "cell_type": "code",
   "execution_count": 10,
   "id": "d77ae532",
   "metadata": {},
   "outputs": [
    {
     "data": {
      "text/plain": [
       "False    33682\n",
       "True        12\n",
       "Name: hb, dtype: int64"
      ]
     },
     "execution_count": 10,
     "metadata": {},
     "output_type": "execute_result"
    }
   ],
   "source": [
    "adata_CRC_Tcell.var['hb'].value_counts()"
   ]
  },
  {
   "cell_type": "code",
   "execution_count": 11,
   "id": "63de1c28",
   "metadata": {},
   "outputs": [],
   "source": [
    "sc.pp.calculate_qc_metrics(adata_CRC_Tcell, qc_vars=['mt','ribo','hb'], percent_top=None, log1p=False, inplace=True)"
   ]
  },
  {
   "cell_type": "code",
   "execution_count": 12,
   "id": "71b49f77",
   "metadata": {},
   "outputs": [
    {
     "name": "stdout",
     "output_type": "stream",
     "text": [
      "8788 33694\n",
      "8788 33668\n"
     ]
    }
   ],
   "source": [
    "print(adata_CRC_Tcell.n_obs, adata_CRC_Tcell.n_vars)\n",
    "malat1 = adata_CRC_Tcell.var_names.str.startswith('MALAT1')\n",
    "# we need to redefine the mito_genes since they were first \n",
    "# calculated on the full object before removing low expressed genes.\n",
    "mito_genes = adata_CRC_Tcell.var_names.str.startswith('MT-')\n",
    "hb_genes = adata_CRC_Tcell.var_names.str.contains('^HB[^(P)]')\n",
    "ribo_genes = adata_CRC_Tcell.var_names.str.startswith((\"RPS\",\"RPL\"))\n",
    "\n",
    "remove = np.add(mito_genes, malat1,ribo_genes)\n",
    "remove = np.add(remove, hb_genes)\n",
    "keep = np.invert(remove)\n",
    "\n",
    "adata_CRC_Tcell = adata_CRC_Tcell[:,keep]\n",
    "\n",
    "print(adata_CRC_Tcell.n_obs, adata_CRC_Tcell.n_vars)"
   ]
  },
  {
   "cell_type": "code",
   "execution_count": 13,
   "id": "c98e679e",
   "metadata": {},
   "outputs": [],
   "source": [
    "adata_CRC_Tcell.raw = adata_CRC_Tcell"
   ]
  },
  {
   "cell_type": "code",
   "execution_count": 14,
   "id": "279a6b8d",
   "metadata": {},
   "outputs": [],
   "source": [
    "annot = sc.queries.biomart_annotations(\n",
    "        \"hsapiens\",\n",
    "        [\"external_gene_name\", \"start_position\", \"end_position\", \"chromosome_name\",\"gene_biotype\"],).set_index(\"external_gene_name\")"
   ]
  },
  {
   "cell_type": "code",
   "execution_count": 15,
   "id": "0823b98f",
   "metadata": {},
   "outputs": [],
   "source": [
    "annot = pd.merge(pd.DataFrame(adata_CRC_Tcell.var_names),annot,left_on=\"gene_symbol\",right_on=\"external_gene_name\",how=\"left\")"
   ]
  },
  {
   "cell_type": "code",
   "execution_count": 16,
   "id": "6a224ef2",
   "metadata": {},
   "outputs": [
    {
     "data": {
      "text/plain": [
       "array([nan, 'lncRNA', 'protein_coding', 'transcribed_unitary_pseudogene',\n",
       "       'snRNA', 'scaRNA', 'IG_V_pseudogene',\n",
       "       'transcribed_unprocessed_pseudogene', 'polymorphic_pseudogene',\n",
       "       'transcribed_processed_pseudogene', 'scRNA', 'IG_V_gene',\n",
       "       'IG_C_gene', 'IG_J_gene', 'unprocessed_pseudogene', 'TR_C_gene',\n",
       "       'TR_J_gene', 'TR_V_gene', 'TR_V_pseudogene', 'TR_D_gene',\n",
       "       'IG_C_pseudogene', 'ribozyme', 'miRNA', 'processed_pseudogene',\n",
       "       'TR_J_pseudogene', 'IG_J_pseudogene', 'IG_D_gene'], dtype=object)"
      ]
     },
     "execution_count": 16,
     "metadata": {},
     "output_type": "execute_result"
    }
   ],
   "source": [
    "annot['gene_biotype'].unique()"
   ]
  },
  {
   "cell_type": "code",
   "execution_count": 17,
   "id": "7e169b0a",
   "metadata": {},
   "outputs": [],
   "source": [
    "annot= annot.drop_duplicates([\"gene_symbol\"])"
   ]
  },
  {
   "cell_type": "code",
   "execution_count": 18,
   "id": "de71eb2d",
   "metadata": {},
   "outputs": [],
   "source": [
    "annot = annot.fillna(\"Not_available\")"
   ]
  },
  {
   "cell_type": "code",
   "execution_count": 19,
   "id": "d39a388d",
   "metadata": {},
   "outputs": [
    {
     "name": "stdout",
     "output_type": "stream",
     "text": [
      "8788 33668\n"
     ]
    }
   ],
   "source": [
    "print(adata_CRC_Tcell.n_obs, adata_CRC_Tcell.n_vars)"
   ]
  },
  {
   "cell_type": "code",
   "execution_count": 20,
   "id": "d05fa110",
   "metadata": {},
   "outputs": [],
   "source": [
    "adata_CRC_Tcell.var['gene_biotype'] = annot.set_index(\"gene_symbol\")['gene_biotype']\n"
   ]
  },
  {
   "cell_type": "code",
   "execution_count": 21,
   "id": "f77bebb4",
   "metadata": {},
   "outputs": [
    {
     "data": {
      "text/html": [
       "<div>\n",
       "<style scoped>\n",
       "    .dataframe tbody tr th:only-of-type {\n",
       "        vertical-align: middle;\n",
       "    }\n",
       "\n",
       "    .dataframe tbody tr th {\n",
       "        vertical-align: top;\n",
       "    }\n",
       "\n",
       "    .dataframe thead th {\n",
       "        text-align: right;\n",
       "    }\n",
       "</style>\n",
       "<table border=\"1\" class=\"dataframe\">\n",
       "  <thead>\n",
       "    <tr style=\"text-align: right;\">\n",
       "      <th></th>\n",
       "      <th>gene_symbol</th>\n",
       "      <th>start_position</th>\n",
       "      <th>end_position</th>\n",
       "      <th>chromosome_name</th>\n",
       "      <th>gene_biotype</th>\n",
       "    </tr>\n",
       "  </thead>\n",
       "  <tbody>\n",
       "    <tr>\n",
       "      <th>0</th>\n",
       "      <td>RP11-34P13.3</td>\n",
       "      <td>Not_available</td>\n",
       "      <td>Not_available</td>\n",
       "      <td>Not_available</td>\n",
       "      <td>Not_available</td>\n",
       "    </tr>\n",
       "    <tr>\n",
       "      <th>1</th>\n",
       "      <td>FAM138A</td>\n",
       "      <td>34554.0</td>\n",
       "      <td>36081.0</td>\n",
       "      <td>1</td>\n",
       "      <td>lncRNA</td>\n",
       "    </tr>\n",
       "    <tr>\n",
       "      <th>2</th>\n",
       "      <td>OR4F5</td>\n",
       "      <td>65419.0</td>\n",
       "      <td>71585.0</td>\n",
       "      <td>1</td>\n",
       "      <td>protein_coding</td>\n",
       "    </tr>\n",
       "    <tr>\n",
       "      <th>3</th>\n",
       "      <td>RP11-34P13.7</td>\n",
       "      <td>Not_available</td>\n",
       "      <td>Not_available</td>\n",
       "      <td>Not_available</td>\n",
       "      <td>Not_available</td>\n",
       "    </tr>\n",
       "    <tr>\n",
       "      <th>4</th>\n",
       "      <td>RP11-34P13.8</td>\n",
       "      <td>Not_available</td>\n",
       "      <td>Not_available</td>\n",
       "      <td>Not_available</td>\n",
       "      <td>Not_available</td>\n",
       "    </tr>\n",
       "    <tr>\n",
       "      <th>...</th>\n",
       "      <td>...</td>\n",
       "      <td>...</td>\n",
       "      <td>...</td>\n",
       "      <td>...</td>\n",
       "      <td>...</td>\n",
       "    </tr>\n",
       "    <tr>\n",
       "      <th>36625</th>\n",
       "      <td>AC233755.2</td>\n",
       "      <td>Not_available</td>\n",
       "      <td>Not_available</td>\n",
       "      <td>Not_available</td>\n",
       "      <td>Not_available</td>\n",
       "    </tr>\n",
       "    <tr>\n",
       "      <th>36626</th>\n",
       "      <td>AC233755.1</td>\n",
       "      <td>Not_available</td>\n",
       "      <td>Not_available</td>\n",
       "      <td>Not_available</td>\n",
       "      <td>Not_available</td>\n",
       "    </tr>\n",
       "    <tr>\n",
       "      <th>36627</th>\n",
       "      <td>AC240274.1</td>\n",
       "      <td>Not_available</td>\n",
       "      <td>Not_available</td>\n",
       "      <td>Not_available</td>\n",
       "      <td>Not_available</td>\n",
       "    </tr>\n",
       "    <tr>\n",
       "      <th>36628</th>\n",
       "      <td>AC213203.1</td>\n",
       "      <td>Not_available</td>\n",
       "      <td>Not_available</td>\n",
       "      <td>Not_available</td>\n",
       "      <td>Not_available</td>\n",
       "    </tr>\n",
       "    <tr>\n",
       "      <th>36629</th>\n",
       "      <td>FAM231B</td>\n",
       "      <td>Not_available</td>\n",
       "      <td>Not_available</td>\n",
       "      <td>Not_available</td>\n",
       "      <td>Not_available</td>\n",
       "    </tr>\n",
       "  </tbody>\n",
       "</table>\n",
       "<p>33668 rows × 5 columns</p>\n",
       "</div>"
      ],
      "text/plain": [
       "        gene_symbol start_position   end_position chromosome_name  \\\n",
       "0      RP11-34P13.3  Not_available  Not_available   Not_available   \n",
       "1           FAM138A        34554.0        36081.0               1   \n",
       "2             OR4F5        65419.0        71585.0               1   \n",
       "3      RP11-34P13.7  Not_available  Not_available   Not_available   \n",
       "4      RP11-34P13.8  Not_available  Not_available   Not_available   \n",
       "...             ...            ...            ...             ...   \n",
       "36625    AC233755.2  Not_available  Not_available   Not_available   \n",
       "36626    AC233755.1  Not_available  Not_available   Not_available   \n",
       "36627    AC240274.1  Not_available  Not_available   Not_available   \n",
       "36628    AC213203.1  Not_available  Not_available   Not_available   \n",
       "36629       FAM231B  Not_available  Not_available   Not_available   \n",
       "\n",
       "         gene_biotype  \n",
       "0       Not_available  \n",
       "1              lncRNA  \n",
       "2      protein_coding  \n",
       "3       Not_available  \n",
       "4       Not_available  \n",
       "...               ...  \n",
       "36625   Not_available  \n",
       "36626   Not_available  \n",
       "36627   Not_available  \n",
       "36628   Not_available  \n",
       "36629   Not_available  \n",
       "\n",
       "[33668 rows x 5 columns]"
      ]
     },
     "execution_count": 21,
     "metadata": {},
     "output_type": "execute_result"
    }
   ],
   "source": [
    "annot"
   ]
  },
  {
   "cell_type": "code",
   "execution_count": 22,
   "id": "87d41c26",
   "metadata": {},
   "outputs": [],
   "source": [
    "protein_coding = annot[\"gene_symbol\"].loc[annot['gene_biotype']==\"protein_coding\"].reset_index()"
   ]
  },
  {
   "cell_type": "code",
   "execution_count": 23,
   "id": "3ca86e54",
   "metadata": {},
   "outputs": [],
   "source": [
    "del protein_coding['index']"
   ]
  },
  {
   "cell_type": "code",
   "execution_count": 24,
   "id": "3c7bffcb",
   "metadata": {},
   "outputs": [],
   "source": [
    "protein_gene_indicator = np.in1d(adata_CRC_Tcell.var_names, protein_coding)\n",
    "adata_CRC_Tcell = adata_CRC_Tcell[:, protein_gene_indicator]"
   ]
  },
  {
   "cell_type": "code",
   "execution_count": 25,
   "id": "fcc06844",
   "metadata": {},
   "outputs": [
    {
     "name": "stdout",
     "output_type": "stream",
     "text": [
      "8788 18258\n"
     ]
    }
   ],
   "source": [
    "print(adata_CRC_Tcell.n_obs, adata_CRC_Tcell.n_vars)"
   ]
  },
  {
   "cell_type": "code",
   "execution_count": 26,
   "id": "25ef11d4",
   "metadata": {},
   "outputs": [],
   "source": [
    "adata_CRC_Tcell.raw = adata_CRC_Tcell"
   ]
  },
  {
   "cell_type": "code",
   "execution_count": 27,
   "id": "ed5e959d",
   "metadata": {},
   "outputs": [
    {
     "name": "stderr",
     "output_type": "stream",
     "text": [
      "... storing 'PatientNumber' as categorical\n",
      "... storing 'TumorType' as categorical\n",
      "... storing 'TumorSite' as categorical\n",
      "... storing 'CellType' as categorical\n",
      "... storing 'gene_biotype' as categorical\n",
      "... storing 'gene_biotype' as categorical\n"
     ]
    }
   ],
   "source": [
    "adata_CRC_Tcell.write(\"/mnt/lugli/spuccio/SP028_Autoimmunity/Cariplo/IBD_counts/h5files/CRC_T_cell.h5ad\")"
   ]
  },
  {
   "cell_type": "code",
   "execution_count": null,
   "id": "85239f47",
   "metadata": {},
   "outputs": [],
   "source": []
  }
 ],
 "metadata": {
  "kernelspec": {
   "display_name": "Python 3",
   "language": "python",
   "name": "python3"
  },
  "language_info": {
   "codemirror_mode": {
    "name": "ipython",
    "version": 3
   },
   "file_extension": ".py",
   "mimetype": "text/x-python",
   "name": "python",
   "nbconvert_exporter": "python",
   "pygments_lexer": "ipython3",
   "version": "3.9.4"
  }
 },
 "nbformat": 4,
 "nbformat_minor": 5
}
